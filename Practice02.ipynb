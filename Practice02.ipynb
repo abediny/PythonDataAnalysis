{
  "cells": [
    {
      "cell_type": "markdown",
      "source": [
        "# Section 2 : Numpy\n",
        "playing with numbers, list and other tools.\n",
        "\n",
        "References:\n",
        "Python for Data Analysis, Data Wrangling with pandas, NumPy, and Jupyter\n",
        "\n",
        "Various open-source material\n",
        "\n",
        "\n",
        "\n",
        "List, Enumaration, Type, String\n",
        "\n"
      ],
      "metadata": {
        "id": "Ok1WkjhujFeL"
      }
    },
    {
      "cell_type": "code",
      "execution_count": null,
      "metadata": {
        "id": "32c18cuai7os"
      },
      "outputs": [],
      "source": []
    },
    {
      "cell_type": "code",
      "execution_count": 5,
      "metadata": {
        "id": "_t7Uh2NKi7ou",
        "colab": {
          "base_uri": "https://localhost:8080/"
        },
        "outputId": "e27cc4f4-4874-4eb9-c4af-653f0f8b4fd2"
      },
      "outputs": [
        {
          "output_type": "stream",
          "name": "stdout",
          "text": [
            "6.289334240241857\n"
          ]
        },
        {
          "output_type": "execute_result",
          "data": {
            "text/plain": [
              "[0.25131566293788804,\n",
              " -0.8136052304036862,\n",
              " -1.4888592194847812,\n",
              " 0.23775587606664744,\n",
              " 0.55767771236874,\n",
              " 0.43591571589563816,\n",
              " -1.1412705260679161]"
            ]
          },
          "metadata": {},
          "execution_count": 5
        }
      ],
      "source": [
        "import numpy as np\n",
        "\n",
        "random_number = np.random.uniform(5, 10)  # Generate a single random number between 5 and 10\n",
        "print(random_number)\n",
        "\n",
        "\n",
        "data = [np.random.standard_normal() for i in range(7)] #  generate random number standard normal.\n",
        "data"
      ]
    },
    {
      "cell_type": "code",
      "execution_count": 7,
      "metadata": {
        "id": "80K-5Zp0i7ou"
      },
      "outputs": [],
      "source": [
        "a = [1, 2, 3] # list"
      ]
    },
    {
      "cell_type": "code",
      "execution_count": 8,
      "metadata": {
        "id": "hqaHDjVIi7ou",
        "colab": {
          "base_uri": "https://localhost:8080/"
        },
        "outputId": "965b765c-9040-414a-f42d-c438da736ed9"
      },
      "outputs": [
        {
          "output_type": "execute_result",
          "data": {
            "text/plain": [
              "[1, 2, 3]"
            ]
          },
          "metadata": {},
          "execution_count": 8
        }
      ],
      "source": [
        "b = a\n",
        "b"
      ]
    },
    {
      "cell_type": "code",
      "execution_count": 9,
      "metadata": {
        "id": "G6OqvqDYi7ou",
        "colab": {
          "base_uri": "https://localhost:8080/"
        },
        "outputId": "b249397a-763e-417e-fd18-372ef7fc9611"
      },
      "outputs": [
        {
          "output_type": "execute_result",
          "data": {
            "text/plain": [
              "[1, 2, 3, 4]"
            ]
          },
          "metadata": {},
          "execution_count": 9
        }
      ],
      "source": [
        "a.append(4)\n",
        "b"
      ]
    },
    {
      "cell_type": "code",
      "execution_count": 10,
      "metadata": {
        "id": "b626OL5zi7ov"
      },
      "outputs": [],
      "source": [
        "def append_element(some_list, element):\n",
        "    some_list.append(element)"
      ]
    },
    {
      "cell_type": "code",
      "execution_count": 11,
      "metadata": {
        "id": "SpegRhXmi7ov",
        "colab": {
          "base_uri": "https://localhost:8080/"
        },
        "outputId": "998967ab-719f-483d-f0b0-16defdca6c49"
      },
      "outputs": [
        {
          "output_type": "execute_result",
          "data": {
            "text/plain": [
              "[1, 2, 3, 4]"
            ]
          },
          "metadata": {},
          "execution_count": 11
        }
      ],
      "source": [
        "data = [1, 2, 3]\n",
        "append_element(data, 4)\n",
        "data"
      ]
    },
    {
      "cell_type": "code",
      "execution_count": 12,
      "metadata": {
        "id": "COGy_chJi7ov",
        "colab": {
          "base_uri": "https://localhost:8080/"
        },
        "outputId": "dab9548a-9da0-466c-a33b-bdc07fffb47f"
      },
      "outputs": [
        {
          "output_type": "execute_result",
          "data": {
            "text/plain": [
              "str"
            ]
          },
          "metadata": {},
          "execution_count": 12
        }
      ],
      "source": [
        "a = 5\n",
        "type(a)\n",
        "a = \"foo\"\n",
        "type(a) # very important function to understand the type of value"
      ]
    },
    {
      "cell_type": "code",
      "execution_count": null,
      "metadata": {
        "id": "FyIQEntRi7ov"
      },
      "outputs": [],
      "source": [
        "\"5\" + 5"
      ]
    },
    {
      "cell_type": "code",
      "execution_count": 13,
      "metadata": {
        "id": "nIuE-f2bi7ov",
        "colab": {
          "base_uri": "https://localhost:8080/"
        },
        "outputId": "796295c4-6f57-4cac-8914-a356229e7afd"
      },
      "outputs": [
        {
          "output_type": "stream",
          "name": "stdout",
          "text": [
            "a is <class 'float'>, b is <class 'int'>\n"
          ]
        },
        {
          "output_type": "execute_result",
          "data": {
            "text/plain": [
              "2.25"
            ]
          },
          "metadata": {},
          "execution_count": 13
        }
      ],
      "source": [
        "a = 4.5\n",
        "b = 2\n",
        "# String formatting, to be visited later\n",
        "print(f\"a is {type(a)}, b is {type(b)}\")\n",
        "a / b"
      ]
    },
    {
      "cell_type": "code",
      "execution_count": 14,
      "metadata": {
        "id": "DgH3QGphi7ow",
        "colab": {
          "base_uri": "https://localhost:8080/"
        },
        "outputId": "346fab68-f7bc-4de2-87ee-ac58e604ffec"
      },
      "outputs": [
        {
          "output_type": "execute_result",
          "data": {
            "text/plain": [
              "True"
            ]
          },
          "metadata": {},
          "execution_count": 14
        }
      ],
      "source": [
        "a = 5\n",
        "isinstance(a, int)"
      ]
    },
    {
      "cell_type": "code",
      "execution_count": 16,
      "metadata": {
        "id": "bpbsWYxii7ow",
        "colab": {
          "base_uri": "https://localhost:8080/"
        },
        "outputId": "b70eafbd-cef4-44bf-b12a-c7db0d19ef15"
      },
      "outputs": [
        {
          "output_type": "execute_result",
          "data": {
            "text/plain": [
              "True"
            ]
          },
          "metadata": {},
          "execution_count": 16
        }
      ],
      "source": [
        "a = 5; b = 4.5\n",
        "isinstance(a, (int, float))\n",
        "isinstance(b, (int, float))"
      ]
    },
    {
      "cell_type": "code",
      "execution_count": 18,
      "metadata": {
        "id": "ql7V8cOri7ow"
      },
      "outputs": [],
      "source": [
        "a = \"foo\""
      ]
    },
    {
      "cell_type": "code",
      "execution_count": null,
      "metadata": {
        "id": "op81P-3Ri7ow"
      },
      "outputs": [],
      "source": [
        "5 - 7\n",
        "12 + 21.5\n",
        "5 <= 2"
      ]
    },
    {
      "cell_type": "code",
      "execution_count": null,
      "metadata": {
        "id": "XMA78fIwi7ow"
      },
      "outputs": [],
      "source": [
        "a = [1, 2, 3]\n",
        "b = a\n",
        "c = list(a)\n",
        "a is b\n",
        "a is not c"
      ]
    },
    {
      "cell_type": "code",
      "execution_count": null,
      "metadata": {
        "id": "KKC7T2eki7ow"
      },
      "outputs": [],
      "source": [
        "a == c"
      ]
    },
    {
      "cell_type": "code",
      "execution_count": 21,
      "metadata": {
        "id": "IqZ3IYZWi7ow",
        "colab": {
          "base_uri": "https://localhost:8080/"
        },
        "outputId": "85e0b369-d576-4f39-f7b0-66d06d04518a"
      },
      "outputs": [
        {
          "output_type": "execute_result",
          "data": {
            "text/plain": [
              "True"
            ]
          },
          "metadata": {},
          "execution_count": 21
        }
      ],
      "source": [
        "a = None\n",
        "a is None"
      ]
    },
    {
      "cell_type": "code",
      "execution_count": 22,
      "metadata": {
        "id": "HnYiSp2Di7ox",
        "colab": {
          "base_uri": "https://localhost:8080/"
        },
        "outputId": "47730c4e-dffc-4b81-a6c0-ed7ee9bee413"
      },
      "outputs": [
        {
          "output_type": "execute_result",
          "data": {
            "text/plain": [
              "['foo', 2, (3, 4)]"
            ]
          },
          "metadata": {},
          "execution_count": 22
        }
      ],
      "source": [
        "a_list = [\"foo\", 2, [4, 5]]\n",
        "a_list[2] = (3, 4)\n",
        "a_list"
      ]
    },
    {
      "cell_type": "code",
      "execution_count": 24,
      "metadata": {
        "id": "QC7gKiH0i7ox"
      },
      "outputs": [],
      "source": [
        "c = \"\"\"\n",
        "This is a longer string that\n",
        "spans multiple lines\n",
        "\"\"\""
      ]
    },
    {
      "cell_type": "code",
      "execution_count": null,
      "metadata": {
        "id": "U2Eh7e6ni7ox"
      },
      "outputs": [],
      "source": [
        "c.count(\"\\n\")"
      ]
    },
    {
      "cell_type": "code",
      "execution_count": 26,
      "metadata": {
        "id": "5DAv16nji7ox",
        "colab": {
          "base_uri": "https://localhost:8080/",
          "height": 35
        },
        "outputId": "b36eb379-bb11-486b-92ff-df0278b43d5a"
      },
      "outputs": [
        {
          "output_type": "execute_result",
          "data": {
            "text/plain": [
              "'this is a longer string'"
            ],
            "application/vnd.google.colaboratory.intrinsic+json": {
              "type": "string"
            }
          },
          "metadata": {},
          "execution_count": 26
        }
      ],
      "source": [
        "b = a.replace(\"string\", \"longer string\")\n",
        "b"
      ]
    },
    {
      "cell_type": "code",
      "execution_count": null,
      "metadata": {
        "id": "J_38Hp3Hi7ox"
      },
      "outputs": [],
      "source": [
        "a"
      ]
    },
    {
      "cell_type": "code",
      "execution_count": null,
      "metadata": {
        "id": "hi1MVDhHi7ox"
      },
      "outputs": [],
      "source": [
        "a = 5.6\n",
        "s = str(a)\n",
        "print(s)"
      ]
    },
    {
      "cell_type": "code",
      "execution_count": null,
      "metadata": {
        "id": "zBf_QnVMi7ox"
      },
      "outputs": [],
      "source": [
        "s = \"python\"\n",
        "list(s)\n",
        "s[:3]"
      ]
    },
    {
      "cell_type": "code",
      "execution_count": null,
      "metadata": {
        "id": "gst6XCu_i7ox"
      },
      "outputs": [],
      "source": [
        "s = \"12\\\\34\"\n",
        "print(s)"
      ]
    },
    {
      "cell_type": "code",
      "execution_count": null,
      "metadata": {
        "id": "zW6LTLjhi7ox"
      },
      "outputs": [],
      "source": [
        "s = r\"this\\has\\no\\special\\characters\"\n",
        "s"
      ]
    },
    {
      "cell_type": "code",
      "execution_count": null,
      "metadata": {
        "id": "QNijJ1SQi7ox"
      },
      "outputs": [],
      "source": [
        "a = \"this is the first half \"\n",
        "b = \"and this is the second half\"\n",
        "a + b"
      ]
    },
    {
      "cell_type": "code",
      "execution_count": null,
      "metadata": {
        "id": "jB8AyLkBi7ox"
      },
      "outputs": [],
      "source": [
        "template = \"{0:.2f} {1:s} are worth US${2:d}\""
      ]
    },
    {
      "cell_type": "code",
      "execution_count": 27,
      "metadata": {
        "id": "1fYPnB-hi7oy"
      },
      "outputs": [],
      "source": [
        "amount = 10\n",
        "rate = 88.46\n",
        "currency = \"Pesos\"\n",
        "result = f\"{amount} {currency} is worth US${amount / rate}\""
      ]
    },
    {
      "cell_type": "code",
      "execution_count": null,
      "metadata": {
        "id": "Mtt6DEPOi7oy"
      },
      "outputs": [],
      "source": [
        "f\"{amount} {currency} is worth US${amount / rate:.2f}\""
      ]
    },
    {
      "cell_type": "code",
      "execution_count": null,
      "metadata": {
        "id": "kqvr1jQ1i7oy"
      },
      "outputs": [],
      "source": [
        "val = \"español\"\n",
        "val"
      ]
    },
    {
      "cell_type": "code",
      "execution_count": null,
      "metadata": {
        "id": "WZb3SYlhi7oy"
      },
      "outputs": [],
      "source": [
        "val_utf8 = val.encode(\"utf-8\")\n",
        "val_utf8\n",
        "type(val_utf8)"
      ]
    },
    {
      "cell_type": "code",
      "execution_count": null,
      "metadata": {
        "id": "hK1eFPSGi7oy"
      },
      "outputs": [],
      "source": [
        "val_utf8.decode(\"utf-8\")"
      ]
    },
    {
      "cell_type": "code",
      "execution_count": null,
      "metadata": {
        "id": "V08evKnwi7oy"
      },
      "outputs": [],
      "source": [
        "val.encode(\"latin1\")\n",
        "val.encode(\"utf-16\")\n",
        "val.encode(\"utf-16le\")"
      ]
    },
    {
      "cell_type": "code",
      "execution_count": null,
      "metadata": {
        "id": "BKJwNmK4i7oy"
      },
      "outputs": [],
      "source": [
        "True and True\n",
        "False or True"
      ]
    },
    {
      "cell_type": "code",
      "execution_count": null,
      "metadata": {
        "id": "fWJJHyANi7oy"
      },
      "outputs": [],
      "source": [
        "int(False)\n",
        "int(True)"
      ]
    },
    {
      "cell_type": "code",
      "execution_count": null,
      "metadata": {
        "id": "rkl2mlLEi7oy"
      },
      "outputs": [],
      "source": [
        "a = True\n",
        "b = False\n",
        "not a\n",
        "not b"
      ]
    },
    {
      "cell_type": "code",
      "execution_count": null,
      "metadata": {
        "id": "91B1jjHji7oy"
      },
      "outputs": [],
      "source": [
        "s = \"3.14159\"\n",
        "fval = float(s)\n",
        "type(fval)\n",
        "int(fval)\n",
        "bool(fval)\n",
        "bool(0)"
      ]
    },
    {
      "cell_type": "code",
      "execution_count": null,
      "metadata": {
        "id": "-QPLLYVvi7oy"
      },
      "outputs": [],
      "source": [
        "a = None\n",
        "a is None\n",
        "b = 5\n",
        "b is not None"
      ]
    },
    {
      "cell_type": "code",
      "execution_count": null,
      "metadata": {
        "id": "FuxMF9y0i7oy"
      },
      "outputs": [],
      "source": [
        "from datetime import datetime, date, time\n",
        "dt = datetime(2011, 10, 29, 20, 30, 21)\n",
        "dt.day\n",
        "dt.minute"
      ]
    },
    {
      "cell_type": "code",
      "execution_count": null,
      "metadata": {
        "id": "F-JwAI9Bi7oz"
      },
      "outputs": [],
      "source": [
        "dt.date()\n",
        "dt.time()"
      ]
    },
    {
      "cell_type": "code",
      "execution_count": null,
      "metadata": {
        "id": "UkGgunYzi7oz"
      },
      "outputs": [],
      "source": [
        "dt.strftime(\"%Y-%m-%d %H:%M\")"
      ]
    },
    {
      "cell_type": "code",
      "execution_count": null,
      "metadata": {
        "id": "SQs2HsoFi7oz"
      },
      "outputs": [],
      "source": [
        "datetime.strptime(\"20091031\", \"%Y%m%d\")"
      ]
    },
    {
      "cell_type": "code",
      "execution_count": null,
      "metadata": {
        "id": "y_9YVLMbi7oz"
      },
      "outputs": [],
      "source": [
        "dt_hour = dt.replace(minute=0, second=0)\n",
        "dt_hour"
      ]
    },
    {
      "cell_type": "code",
      "execution_count": null,
      "metadata": {
        "id": "Ci4MVHW3i7oz"
      },
      "outputs": [],
      "source": [
        "dt"
      ]
    },
    {
      "cell_type": "code",
      "execution_count": null,
      "metadata": {
        "id": "kbTC9DSEi7oz"
      },
      "outputs": [],
      "source": [
        "dt2 = datetime(2011, 11, 15, 22, 30)\n",
        "delta = dt2 - dt\n",
        "delta\n",
        "type(delta)"
      ]
    },
    {
      "cell_type": "code",
      "execution_count": null,
      "metadata": {
        "id": "MknZgGMCi7oz"
      },
      "outputs": [],
      "source": [
        "dt\n",
        "dt + delta"
      ]
    },
    {
      "cell_type": "code",
      "execution_count": 30,
      "metadata": {
        "id": "cLIdcdN7i7oz",
        "colab": {
          "base_uri": "https://localhost:8080/"
        },
        "outputId": "472ef51a-d214-40ff-8e1a-a933b4802c43"
      },
      "outputs": [
        {
          "output_type": "stream",
          "name": "stdout",
          "text": [
            "Made it\n"
          ]
        }
      ],
      "source": [
        "a = 5; b = 7\n",
        "c = 8; d = 4\n",
        "if a < b or c > d:\n",
        "    print(\"Made it\")"
      ]
    },
    {
      "cell_type": "code",
      "execution_count": null,
      "metadata": {
        "id": "U-uhZwyOi7oz"
      },
      "outputs": [],
      "source": [
        "for i in range(4):\n",
        "    for j in range(4):\n",
        "        if j > i:\n",
        "            break\n",
        "        print((i, j))\n"
      ]
    },
    {
      "cell_type": "code",
      "execution_count": null,
      "metadata": {
        "id": "09strG3Ki7oz"
      },
      "outputs": [],
      "source": [
        "range(10)\n",
        "list(range(10))"
      ]
    },
    {
      "cell_type": "code",
      "execution_count": null,
      "metadata": {
        "id": "1NLLGdHTi7oz"
      },
      "outputs": [],
      "source": [
        "list(range(0, 20, 2))\n",
        "list(range(5, 0, -1))"
      ]
    },
    {
      "cell_type": "code",
      "execution_count": 29,
      "metadata": {
        "id": "Qd3_eaO0i7oz",
        "colab": {
          "base_uri": "https://localhost:8080/"
        },
        "outputId": "015d8917-fadf-4b6e-f49c-6c1c2895b97d"
      },
      "outputs": [
        {
          "output_type": "stream",
          "name": "stdout",
          "text": [
            "element 0: 1\n",
            "element 1: 2\n",
            "element 2: 3\n",
            "element 3: 4\n"
          ]
        }
      ],
      "source": [
        "seq = [1, 2, 3, 4]\n",
        "for i in range(len(seq)):\n",
        "    print(f\"element {i}: {seq[i]}\")"
      ]
    },
    {
      "cell_type": "code",
      "execution_count": null,
      "metadata": {
        "id": "F5yodC5Mi7oz"
      },
      "outputs": [],
      "source": []
    }
  ],
  "metadata": {
    "kernelspec": {
      "display_name": "Python 3",
      "language": "python",
      "name": "python3"
    },
    "language_info": {
      "codemirror_mode": {
        "name": "ipython",
        "version": 3
      },
      "file_extension": ".py",
      "mimetype": "text/x-python",
      "name": "python",
      "nbconvert_exporter": "python",
      "pygments_lexer": "ipython3",
      "version": "3.7.6"
    },
    "colab": {
      "provenance": []
    }
  },
  "nbformat": 4,
  "nbformat_minor": 0
}